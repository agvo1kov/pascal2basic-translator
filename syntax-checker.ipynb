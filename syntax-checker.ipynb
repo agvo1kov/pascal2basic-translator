{
 "cells": [
  {
   "cell_type": "code",
   "execution_count": 96,
   "metadata": {},
   "outputs": [],
   "source": [
    "import re\n",
    "import sys\n",
    "import pprint\n",
    "import json\n",
    "from IPython.display import display\n",
    "from colorama import Fore, Back, Style"
   ]
  },
  {
   "cell_type": "code",
   "execution_count": 97,
   "metadata": {},
   "outputs": [],
   "source": [
    "with open('./results/lab1.json') as lab1_file:\n",
    "    data = json.load(lab1_file)\n",
    "tokens_chain = data['chain']\n",
    "service_words = data['tables']['service_words']\n",
    "operations = data['tables']['operations']\n",
    "separators = data['tables']['separators']\n",
    "constants = data['tables']['constants']\n",
    "identifiers = data['tables']['identifiers']"
   ]
  },
  {
   "cell_type": "code",
   "execution_count": 133,
   "metadata": {},
   "outputs": [
    {
     "name": "stdout",
     "output_type": "stream",
     "text": [
      "['W', 0, 'program']\n",
      "\u001b[32mprogram\u001b[0m\n",
      "['I', 0, 'trivial']\n",
      "['R', 4, ';']\n",
      "end of program\n",
      "['W', 1, 'var']\n",
      "\u001b[32mvar\u001b[0m\n",
      "['I', 1, 'a']\n",
      "['R', 3, ':']\n",
      "['W', 3, 'integer']\n",
      "\u001b[32mvar_type\u001b[0m\n",
      "['R', 4, ';']\n"
     ]
    }
   ],
   "source": [
    "nxtsymb = []\n",
    "token_index = -1\n",
    "wrapper()"
   ]
  },
  {
   "cell_type": "code",
   "execution_count": 103,
   "metadata": {},
   "outputs": [],
   "source": [
    "def scan():\n",
    "    global tokens_chain, token_index, nxtsymb\n",
    "    token_index += 1\n",
    "    if token_index < len(tokens_chain):\n",
    "        nxtsymb = tokens_chain[token_index]\n",
    "        print(nxtsymb)"
   ]
  },
  {
   "cell_type": "code",
   "execution_count": 130,
   "metadata": {},
   "outputs": [],
   "source": [
    "def error(text):\n",
    "    print(Fore.RED + 'Fatal:', Fore.BLACK + text, Style.RESET_ALL)\n",
    "#     ahah/0"
   ]
  },
  {
   "cell_type": "code",
   "execution_count": 116,
   "metadata": {},
   "outputs": [],
   "source": [
    "def check(response):\n",
    "    if len(response):\n",
    "        error(response)\n",
    "        return False\n",
    "    else:\n",
    "        return True"
   ]
  },
  {
   "cell_type": "code",
   "execution_count": 118,
   "metadata": {},
   "outputs": [],
   "source": [
    "def wrapper():\n",
    "    global tokens_chain, token_index, nxtsymb\n",
    "    scan()\n",
    "    if nxtsymb[2] == 'program':\n",
    "        check(program())\n",
    "    print('end of program')\n",
    "    scan()\n",
    "    if nxtsymb[2] == 'var':\n",
    "        check(var())\n",
    "    "
   ]
  },
  {
   "cell_type": "code",
   "execution_count": null,
   "metadata": {},
   "outputs": [],
   "source": []
  },
  {
   "cell_type": "code",
   "execution_count": 107,
   "metadata": {},
   "outputs": [],
   "source": [
    "def program():\n",
    "    global tokens_chain, token_index, nxtsymb\n",
    "    print(Fore.GREEN + 'program' + Style.RESET_ALL)\n",
    "    \n",
    "    scan()\n",
    "    if nxtsymb[0] != 'I':\n",
    "        return 'expected identifier'\n",
    "    scan()\n",
    "    if nxtsymb[2] != ';':\n",
    "        return 'expected \";\"'\n",
    "    return ''"
   ]
  },
  {
   "cell_type": "code",
   "execution_count": null,
   "metadata": {},
   "outputs": [],
   "source": []
  },
  {
   "cell_type": "code",
   "execution_count": 132,
   "metadata": {},
   "outputs": [],
   "source": [
    "def var():\n",
    "    global tokens_chain, token_index, nxtsymb\n",
    "    print(Fore.GREEN + 'var' + Style.RESET_ALL)\n",
    "    \n",
    "    scan()\n",
    "    if nxtsymb[0] != 'I':\n",
    "        return 'expexted identifier'\n",
    "    scan()\n",
    "    while nxtsymb[2] == ',':\n",
    "        scan()\n",
    "        if nxtsymb[0] != 'I':\n",
    "            return 'expexted identifier'\n",
    "        scan()\n",
    "    if nxtsymb[2] != ':':\n",
    "        return 'expected \":\"'\n",
    "    scan()\n",
    "    check(var_type())\n",
    "    scan()\n",
    "    if nxtsymb[2] != ';':\n",
    "        return 'expected \";\"'\n",
    "    return ''"
   ]
  },
  {
   "cell_type": "code",
   "execution_count": 123,
   "metadata": {},
   "outputs": [],
   "source": [
    "def var_type():\n",
    "    global tokens_chain, token_index, nxtsymb\n",
    "    print(Fore.GREEN + 'var_type' + Style.RESET_ALL)\n",
    "    \n",
    "    if nxtsymb[2] in ['integer', 'real', 'string']:\n",
    "        return ''\n",
    "    elif nxtsymb[2] == 'array':\n",
    "        scan()\n",
    "        if nextsymb[2] != '[':\n",
    "            return 'expected \"[\"'\n",
    "        scan()\n",
    "        check(interval())\n",
    "        scan()\n",
    "        while nextsymb[2] == ',':\n",
    "            scan()\n",
    "            check(interval())\n",
    "            scan()\n",
    "        if nextsymb[2] != ']':\n",
    "            return 'expected \"]\"'\n",
    "        scan()\n",
    "        if nextsymb[2] != 'of':\n",
    "            return 'expected \"of\"'\n",
    "        if nxtsymb[2] not in ['integer', 'real', 'string']:\n",
    "            return 'expected variable type'\n",
    "        return ''\n",
    "    else:\n",
    "        return 'expected variable type of array description'\n",
    "        \n",
    "            "
   ]
  },
  {
   "cell_type": "code",
   "execution_count": 124,
   "metadata": {},
   "outputs": [],
   "source": [
    "def interval():\n",
    "    global tokens_chain, token_index, nxtsymb\n",
    "    print(Fore.GREEN + 'interval' + Style.RESET_ALL)\n",
    "    \n",
    "    if nxtsymb[0] != 'C':\n",
    "        return 'expected constant'\n",
    "    scan()\n",
    "    if nxtsymb[2] != '..':\n",
    "        return 'expected \"..\"'\n",
    "    scan()\n",
    "    if nxtsymb[0] != 'C':\n",
    "        return 'expected constant'\n",
    "    return ''"
   ]
  },
  {
   "cell_type": "code",
   "execution_count": null,
   "metadata": {},
   "outputs": [],
   "source": []
  },
  {
   "cell_type": "code",
   "execution_count": null,
   "metadata": {},
   "outputs": [],
   "source": []
  },
  {
   "cell_type": "code",
   "execution_count": null,
   "metadata": {},
   "outputs": [],
   "source": []
  }
 ],
 "metadata": {
  "kernelspec": {
   "display_name": "Python 3",
   "language": "python",
   "name": "python3"
  },
  "language_info": {
   "codemirror_mode": {
    "name": "ipython",
    "version": 3
   },
   "file_extension": ".py",
   "mimetype": "text/x-python",
   "name": "python",
   "nbconvert_exporter": "python",
   "pygments_lexer": "ipython3",
   "version": "3.7.2"
  }
 },
 "nbformat": 4,
 "nbformat_minor": 2
}

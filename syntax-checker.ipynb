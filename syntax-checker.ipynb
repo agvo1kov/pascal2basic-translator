{
 "cells": [
  {
   "cell_type": "code",
   "execution_count": 96,
   "metadata": {},
   "outputs": [],
   "source": [
    "import re\n",
    "import sys\n",
    "import pprint\n",
    "import json\n",
    "from IPython.display import display\n",
    "from colorama import Fore, Back, Style"
   ]
  },
  {
   "cell_type": "code",
   "execution_count": 261,
   "metadata": {},
   "outputs": [
    {
     "name": "stdout",
     "output_type": "stream",
     "text": [
      "['W', 0, 'program']\n",
      "\u001b[32mprogram\u001b[0m\n",
      "['I', 0, 'body']\n",
      "['R', 4, ';']\n",
      "['W', 11, 'begin']\n",
      "['I', 1, 'a']\n",
      "\u001b[32moperator\u001b[0m\n",
      "\u001b[32massignment\u001b[0m\n",
      "['W', 12, ':=']\n",
      "['I', 2, 'b']\n",
      "\u001b[32mexpression\u001b[0m\n",
      "heh\n",
      "hah\n",
      "['R', 4, ';']\n",
      "huh\n",
      "['W', 18, 'end.']\n",
      "expression checked\n",
      "\u001b[31mFatal: \u001b[30m\";\" expected \u001b[0m\n"
     ]
    }
   ],
   "source": [
    "with open('./results/lab1.json') as lab1_file:\n",
    "    data = json.load(lab1_file)\n",
    "tokens_chain = data['chain']\n",
    "service_words = data['tables']['service_words']\n",
    "operations = data['tables']['operations']\n",
    "separators = data['tables']['separators']\n",
    "constants = data['tables']['constants']\n",
    "identifiers = data['tables']['identifiers']\n",
    "\n",
    "nxtsymb = []\n",
    "token_index = -1\n",
    "wrapper()"
   ]
  },
  {
   "cell_type": "code",
   "execution_count": 183,
   "metadata": {},
   "outputs": [],
   "source": [
    "def scan():\n",
    "    global tokens_chain, token_index, nxtsymb\n",
    "    token_index += 1\n",
    "    if token_index < len(tokens_chain):\n",
    "        nxtsymb = tokens_chain[token_index]\n",
    "        print(nxtsymb)"
   ]
  },
  {
   "cell_type": "code",
   "execution_count": 184,
   "metadata": {},
   "outputs": [],
   "source": [
    "def antiscan():\n",
    "    global tokens_chain, token_index, nxtsymb\n",
    "    token_index -= 1\n",
    "    if token_index >= 0:\n",
    "        nxtsymb = tokens_chain[token_index]\n",
    "        print(nxtsymb)"
   ]
  },
  {
   "cell_type": "code",
   "execution_count": 185,
   "metadata": {},
   "outputs": [],
   "source": [
    "def error(text):\n",
    "    print(Fore.RED + 'Fatal:', Fore.BLACK + text, Style.RESET_ALL)\n",
    "#     ahah/0"
   ]
  },
  {
   "cell_type": "code",
   "execution_count": 186,
   "metadata": {},
   "outputs": [],
   "source": [
    "def check(response):\n",
    "    if len(response):\n",
    "        error(response)\n",
    "        return False\n",
    "    else:\n",
    "        return True"
   ]
  },
  {
   "cell_type": "code",
   "execution_count": 230,
   "metadata": {},
   "outputs": [],
   "source": [
    "def wrapper():\n",
    "    global nxtsymb\n",
    "    scan()\n",
    "    if nxtsymb[2] == 'program':\n",
    "        if not check(program()):\n",
    "            return 'invalid program declaration'\n",
    "    scan()\n",
    "    if nxtsymb[2] == 'var':\n",
    "        scan()\n",
    "        if not check(var()):\n",
    "            return 'invalid var declaration'\n",
    "        scan()\n",
    "        while nxtsymb[0] == 'I':\n",
    "            if not check(var()):\n",
    "                return 'invalid var declaration'\n",
    "            scan()   \n",
    "    if nxtsymb[2] != 'begin':\n",
    "        return '\"begin\" expected'\n",
    "    scan()\n",
    "    while check(operator()):\n",
    "        scan()\n",
    "        print('hl')\n",
    "    if nxtsymb[2] != 'end.':\n",
    "        return '\"end.\" expected'\n",
    "    "
   ]
  },
  {
   "cell_type": "code",
   "execution_count": null,
   "metadata": {},
   "outputs": [],
   "source": []
  },
  {
   "cell_type": "code",
   "execution_count": 210,
   "metadata": {},
   "outputs": [],
   "source": [
    "def program():\n",
    "    global nxtsymb\n",
    "    print(Fore.GREEN + 'program' + Style.RESET_ALL)\n",
    "    \n",
    "    scan()\n",
    "    if nxtsymb[0] != 'I':\n",
    "        return 'identifier expected'\n",
    "    scan()\n",
    "    if nxtsymb[2] != ';':\n",
    "        return '\";\" expected'\n",
    "    return ''"
   ]
  },
  {
   "cell_type": "code",
   "execution_count": null,
   "metadata": {},
   "outputs": [],
   "source": []
  },
  {
   "cell_type": "code",
   "execution_count": 211,
   "metadata": {},
   "outputs": [],
   "source": [
    "def var():\n",
    "    global nxtsymb\n",
    "    print(Fore.GREEN + 'var' + Style.RESET_ALL)\n",
    "    \n",
    "    if nxtsymb[0] != 'I':\n",
    "        return 'identifier expexted'\n",
    "    scan()\n",
    "    while nxtsymb[2] == ',':\n",
    "        scan()\n",
    "        if nxtsymb[0] != 'I':\n",
    "            return 'identifier expected'\n",
    "        scan()\n",
    "    if nxtsymb[2] != ':':\n",
    "        return '\":\" expected'\n",
    "    scan()\n",
    "    if not check(var_type()):\n",
    "        return 'invalid variable type declaration'\n",
    "    scan()\n",
    "    if nxtsymb[2] != ';':\n",
    "        return '\";\" expected'\n",
    "    return ''"
   ]
  },
  {
   "cell_type": "code",
   "execution_count": 212,
   "metadata": {},
   "outputs": [],
   "source": [
    "def var_type():\n",
    "    global nxtsymb\n",
    "    print(Fore.GREEN + 'var_type' + Style.RESET_ALL)\n",
    "    \n",
    "    if nxtsymb[2] in ['integer', 'real', 'string']:\n",
    "        return ''\n",
    "    elif nxtsymb[2] == 'array':\n",
    "        scan()\n",
    "        if nxtsymb[2] != '[':\n",
    "            return '\"[\" expected'\n",
    "        scan()\n",
    "        if not check(interval()):\n",
    "            return 'invalid interval syntax'\n",
    "        scan()\n",
    "        while nxtsymb[2] == ',':\n",
    "            scan()\n",
    "            if not check(interval()):\n",
    "                return 'invalid interval syntax'\n",
    "            scan()\n",
    "        if nxtsymb[2] != ']':\n",
    "            return '\"]\" expected'\n",
    "        scan()\n",
    "        if nxtsymb[2] != 'of':\n",
    "            return '\"of\" expected'\n",
    "        scan()\n",
    "        if nxtsymb[2] not in ['integer', 'real', 'string']:\n",
    "            return 'variable type expected'\n",
    "        return ''\n",
    "    else:\n",
    "        return 'array type expected'\n",
    "        \n",
    "            "
   ]
  },
  {
   "cell_type": "code",
   "execution_count": 213,
   "metadata": {},
   "outputs": [],
   "source": [
    "def interval():\n",
    "    global nxtsymb\n",
    "    print(Fore.GREEN + 'interval' + Style.RESET_ALL)\n",
    "    \n",
    "    if nxtsymb[0] != 'C':\n",
    "        return 'constant expected'\n",
    "    scan()\n",
    "    if nxtsymb[2] != '..':\n",
    "        return '\"..\" expected'\n",
    "    scan()\n",
    "    if nxtsymb[0] != 'C':\n",
    "        return 'constant expected'\n",
    "    return ''"
   ]
  },
  {
   "cell_type": "code",
   "execution_count": null,
   "metadata": {},
   "outputs": [],
   "source": []
  },
  {
   "cell_type": "code",
   "execution_count": null,
   "metadata": {},
   "outputs": [],
   "source": [
    "def operators():\n",
    "    global nxtsymb\n",
    "    \n",
    "    if not(operator):\n",
    "        return 'operator expected'\n",
    "    "
   ]
  },
  {
   "cell_type": "code",
   "execution_count": 260,
   "metadata": {},
   "outputs": [],
   "source": [
    "def operator():\n",
    "    global nxtsymb\n",
    "    print(Fore.GREEN + 'operator' + Style.RESET_ALL)\n",
    "    \n",
    "    if nxtsymb[2] == \";\":\n",
    "        pass\n",
    "    elif nxtsymb[0] == 'I':\n",
    "        if not check(assignment()):\n",
    "            return 'invalid assignment declaration'\n",
    "        scan()\n",
    "        print('expression checked')\n",
    "        if nxtsymb[2] != ';':\n",
    "            return '\";\" expected'\n",
    "    return ''"
   ]
  },
  {
   "cell_type": "code",
   "execution_count": 235,
   "metadata": {},
   "outputs": [],
   "source": [
    "def assignment():\n",
    "    global nxtsymb\n",
    "    print(Fore.GREEN + 'assignment' + Style.RESET_ALL)\n",
    "    \n",
    "    if nxtsymb[0] != 'I':\n",
    "        return 'identifier expected'\n",
    "    scan()\n",
    "    if nxtsymb[2] != ':=':\n",
    "        return '\":=\" expected'\n",
    "    scan()\n",
    "    if not check(expression()):\n",
    "        return 'invalid expression'\n",
    "    return ''"
   ]
  },
  {
   "cell_type": "code",
   "execution_count": null,
   "metadata": {},
   "outputs": [],
   "source": []
  },
  {
   "cell_type": "code",
   "execution_count": 254,
   "metadata": {},
   "outputs": [],
   "source": [
    "def expression():\n",
    "    print(Fore.GREEN + 'expression' + Style.RESET_ALL)\n",
    "    global nxtsymb\n",
    "    \n",
    "    if not check(term()):\n",
    "        return 'term expected'\n",
    "    scan()\n",
    "    while nxtsymb[2] == '+':\n",
    "        scan()\n",
    "        if not check(factor()):\n",
    "            return 'factor expected'\n",
    "    print('huh')\n",
    "    return ''"
   ]
  },
  {
   "cell_type": "code",
   "execution_count": 255,
   "metadata": {},
   "outputs": [],
   "source": [
    "def term():\n",
    "    global nxtsymb\n",
    "    \n",
    "    if not check(factor()):\n",
    "        return 'factor expected'\n",
    "    while nxtsymb[2] == '*':\n",
    "        scan()\n",
    "        if not check(factor()):\n",
    "            return 'factor expected'\n",
    "    print('hah')\n",
    "    return ''"
   ]
  },
  {
   "cell_type": "code",
   "execution_count": 256,
   "metadata": {},
   "outputs": [],
   "source": [
    "def factor():\n",
    "    global nxtsymb\n",
    "    \n",
    "    if nxtsymb[2] == '(':\n",
    "        scan()\n",
    "        if not check(expression()):\n",
    "            return 'expression expected'\n",
    "        if nxtsymb[2] != ')':\n",
    "            return '\")\" expected'\n",
    "    else:\n",
    "        if nxtsymb[0] not in ['I', 'C']:\n",
    "            return 'constant or identifier expected'\n",
    "        print('heh')\n",
    "    return ''"
   ]
  },
  {
   "cell_type": "code",
   "execution_count": null,
   "metadata": {},
   "outputs": [],
   "source": []
  },
  {
   "cell_type": "code",
   "execution_count": null,
   "metadata": {},
   "outputs": [],
   "source": []
  },
  {
   "cell_type": "code",
   "execution_count": null,
   "metadata": {},
   "outputs": [],
   "source": []
  }
 ],
 "metadata": {
  "kernelspec": {
   "display_name": "Python 3",
   "language": "python",
   "name": "python3"
  },
  "language_info": {
   "codemirror_mode": {
    "name": "ipython",
    "version": 3
   },
   "file_extension": ".py",
   "mimetype": "text/x-python",
   "name": "python",
   "nbconvert_exporter": "python",
   "pygments_lexer": "ipython3",
   "version": "3.7.2"
  }
 },
 "nbformat": 4,
 "nbformat_minor": 2
}

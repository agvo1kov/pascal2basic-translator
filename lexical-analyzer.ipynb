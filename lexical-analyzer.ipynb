{
 "cells": [
  {
   "cell_type": "code",
   "execution_count": 8,
   "metadata": {},
   "outputs": [],
   "source": [
    "import re"
   ]
  },
  {
   "cell_type": "code",
   "execution_count": 37,
   "metadata": {},
   "outputs": [],
   "source": [
    "service_words = ['program', 'var', 'integer', 'real', 'string',\n",
    "                 'array of', 'of', 'procedure', 'function', 'return',\n",
    "                 'begin', 'end;', ':=', 'goto', 'if', 'else', 'end.']\n",
    "identifiers = []\n",
    "operations = ['+', '-', '*', '/', '^', '<', '>', '=', '<>', '<=', '>=']\n",
    "exploders = [',', ';', '(', ')', '[', ']', '{', '}', '.', '\\n']\n",
    "integer_constants = []\n",
    "real_constants = []\n",
    "string_constants = []\n",
    "\n",
    "tokens_chain = []"
   ]
  },
  {
   "cell_type": "code",
   "execution_count": 38,
   "metadata": {},
   "outputs": [
    {
     "name": "stdout",
     "output_type": "stream",
     "text": [
      "program\n",
      "YEP 0\n",
      "[['S', 0]]\n",
      "example;\n",
      "var\n",
      "YEP 1\n",
      "[['S', 0], ['S', 1]]\n",
      "a:\n",
      "integer;\n",
      "begin\n",
      "YEP 10\n",
      "[['S', 0], ['S', 1], ['S', 10]]\n",
      "a\n",
      ":=\n",
      "YEP 12\n",
      "[['S', 0], ['S', 1], ['S', 10], ['S', 12]]\n",
      "0;\n",
      "iteration:\n",
      "if\n",
      "YEP 14\n",
      "[['S', 0], ['S', 1], ['S', 10], ['S', 12], ['S', 14]]\n",
      "a\n",
      ">\n",
      "5\n",
      "then\n",
      "goto\n",
      "YEP 13\n",
      "[['S', 0], ['S', 1], ['S', 10], ['S', 12], ['S', 14], ['S', 13]]\n",
      "out\n",
      "else\n",
      "YEP 15\n",
      "[['S', 0], ['S', 1], ['S', 10], ['S', 12], ['S', 14], ['S', 13], ['S', 15]]\n",
      "a\n",
      ":=\n",
      "YEP 12\n",
      "[['S', 0], ['S', 1], ['S', 10], ['S', 12], ['S', 14], ['S', 13], ['S', 15], ['S', 12]]\n",
      "a\n",
      "+\n",
      "1;\n",
      "goto\n",
      "YEP 13\n",
      "[['S', 0], ['S', 1], ['S', 10], ['S', 12], ['S', 14], ['S', 13], ['S', 15], ['S', 12], ['S', 13]]\n",
      "iteration;\n",
      "out:\n",
      "end.\n",
      "YEP 16\n",
      "[['S', 0], ['S', 1], ['S', 10], ['S', 12], ['S', 14], ['S', 13], ['S', 15], ['S', 12], ['S', 13], ['S', 16]]\n"
     ]
    }
   ],
   "source": [
    "program = re.sub('\\n+', ' ', re.sub(' +', ' ', open('./example.pas').read().replace('\\t', '')))\n",
    "lines = program.split('\\n')\n",
    "\n",
    "for line in lines:\n",
    "    for token in line.split(' '):\n",
    "        print(token.lower())\n",
    "        if token.lower() in service_words:\n",
    "            print('YEP', service_words.index(token.lower()))\n",
    "            tokens_chain.append(['S', service_words.index(token.lower())])\n",
    "            print(tokens_chain)"
   ]
  },
  {
   "cell_type": "raw",
   "metadata": {},
   "source": [
    "print(tokens_chain)"
   ]
  },
  {
   "cell_type": "code",
   "execution_count": 14,
   "metadata": {},
   "outputs": [
    {
     "data": {
      "text/plain": [
       "'Program example;\\nvar\\n\\ta: integer;\\nbegin\\n\\ta := 0;\\n\\n\\titeration:\\n\\tif a > 5 then\\n\\t\\tgoto out\\n\\telse\\n\\t\\ta := a + 1;\\n\\tgoto iteration;\\n\\n\\tout:\\nend.'"
      ]
     },
     "execution_count": 14,
     "metadata": {},
     "output_type": "execute_result"
    }
   ],
   "source": [
    "open('./example.pas').read()"
   ]
  },
  {
   "cell_type": "code",
   "execution_count": null,
   "metadata": {},
   "outputs": [],
   "source": []
  }
 ],
 "metadata": {
  "kernelspec": {
   "display_name": "Python 3",
   "language": "python",
   "name": "python3"
  },
  "language_info": {
   "codemirror_mode": {
    "name": "ipython",
    "version": 3
   },
   "file_extension": ".py",
   "mimetype": "text/x-python",
   "name": "python",
   "nbconvert_exporter": "python",
   "pygments_lexer": "ipython3",
   "version": "3.7.2"
  }
 },
 "nbformat": 4,
 "nbformat_minor": 2
}

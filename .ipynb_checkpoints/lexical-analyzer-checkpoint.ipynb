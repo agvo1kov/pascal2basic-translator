{
 "cells": [
  {
   "cell_type": "code",
   "execution_count": null,
   "metadata": {},
   "outputs": [],
   "source": []
  },
  {
   "cell_type": "code",
   "execution_count": 1,
   "metadata": {},
   "outputs": [],
   "source": [
    "service_words = ['program', 'var', 'integer', 'real', 'string',\n",
    "                 'array of', 'of', 'procedure', 'function', 'return',\n",
    "                 'begin', 'end;', ':=', 'goto', 'if', 'else', 'end.']\n",
    "identifiers = []\n",
    "operations = ['+', '-', '*', '/', '^', '<', '>', '=', '<>', '<=', '>=']\n",
    "exploders = [' ', ',', ';', '(', ')', '[', ']', '{', '}', '.', '\\n']\n",
    "integer_constants = []\n",
    "real_constants = []\n",
    "string_constants = []\n",
    "\n",
    "tokens_chain = []"
   ]
  },
  {
   "cell_type": "code",
   "execution_count": 6,
   "metadata": {},
   "outputs": [
    {
     "name": "stdout",
     "output_type": "stream",
     "text": [
      "Program\n",
      "example;\n",
      "var\n",
      "\ta:\n",
      "integer;\n",
      "begin\n",
      "\ta\n",
      ":=\n",
      "0;\n",
      "\n",
      "\titeration:\n",
      "\tif\n",
      "a\n",
      ">\n",
      "5\n",
      "then\n",
      "\t\tgoto\n",
      "out\n",
      "\telse\n",
      "\t\ta\n",
      ":=\n",
      "a\n",
      "+\n",
      "1;\n",
      "\tgoto\n",
      "iteration;\n",
      "\n",
      "\tout:\n",
      "end.\n"
     ]
    }
   ],
   "source": [
    "program = open('./example.pas').read()\n",
    "lines = program.split('\\n')\n",
    "\n",
    "for line in lines:\n",
    "    for token in line.strip().split(' '):\n",
    "        print(token)"
   ]
  },
  {
   "cell_type": "code",
   "execution_count": null,
   "metadata": {},
   "outputs": [],
   "source": []
  }
 ],
 "metadata": {
  "kernelspec": {
   "display_name": "Python 3",
   "language": "python",
   "name": "python3"
  },
  "language_info": {
   "codemirror_mode": {
    "name": "ipython",
    "version": 3
   },
   "file_extension": ".py",
   "mimetype": "text/x-python",
   "name": "python",
   "nbconvert_exporter": "python",
   "pygments_lexer": "ipython3",
   "version": "3.7.2"
  }
 },
 "nbformat": 4,
 "nbformat_minor": 2
}
